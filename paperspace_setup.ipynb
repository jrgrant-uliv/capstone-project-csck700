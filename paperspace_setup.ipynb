{
 "cells": [
  {
   "cell_type": "code",
   "execution_count": null,
   "id": "0da153ea-5ae3-4275-9dd7-bd97f0f1febf",
   "metadata": {
    "execution": {
     "iopub.execute_input": "2024-01-05T20:06:09.195633Z",
     "iopub.status.busy": "2024-01-05T20:06:09.194942Z",
     "iopub.status.idle": "2024-01-05T20:06:09.424471Z",
     "shell.execute_reply": "2024-01-05T20:06:09.423585Z",
     "shell.execute_reply.started": "2024-01-05T20:06:09.195605Z"
    }
   },
   "outputs": [],
   "source": []
  },
  {
   "cell_type": "code",
   "execution_count": null,
   "id": "f55a72a8-6c95-4b2a-940e-ae784f3d3b73",
   "metadata": {
    "execution": {
     "iopub.execute_input": "2024-01-05T20:09:45.707191Z",
     "iopub.status.busy": "2024-01-05T20:09:45.706410Z",
     "iopub.status.idle": "2024-01-05T20:09:45.712979Z",
     "shell.execute_reply": "2024-01-05T20:09:45.711985Z",
     "shell.execute_reply.started": "2024-01-05T20:09:45.707155Z"
    }
   },
   "outputs": [],
   "source": [
    "# if CSCK_700_Resources does not exist, download it\n",
    "import os\n",
    "\n",
    "%mkdir -p artefacts/embeddings\n",
    "%mkdir -p application_log_datasets\n",
    "\n",
    "if not os.path.exists('./CSCK_700_Resources'):\n",
    "    !pip install --upgrade gdown\n",
    "    !gdown https://drive.google.com/drive/folders/1Nsiyt_DseGU1tMTdb08AD65Y6puLIO9B -O ./ --folder\n",
    "    !unzip -oq ./CSCK_700_Resources/HDFS.zip -d ./application_log_datasets/HDFS\n",
    "    !unzip -oq ./CSCK_700_Resources/glove.840B.300d.zip -d ./artefacts/embeddings\n",
    "\n",
    "%cd environment_setup\n",
    "\n",
    "!sh install_dependencies.sh\n",
    "%cd .."
   ]
  }
 ],
 "metadata": {
  "kernelspec": {
   "display_name": "Python 3 (ipykernel)",
   "language": "python",
   "name": "python3"
  }
 },
 "nbformat": 4,
 "nbformat_minor": 5
}
